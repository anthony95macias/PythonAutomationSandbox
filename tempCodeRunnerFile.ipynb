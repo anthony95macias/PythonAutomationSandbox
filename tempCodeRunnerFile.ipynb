import pyautogui
import time

# Function to move the mouse dramatically
def move_dramatically():
    x, y = pyautogui.position()
    
    # Move mouse right, left, up, and down
    pyautogui.moveTo(x + 100, y)
    print("Dramatically moved mouse to the right!")
    
    pyautogui.moveTo(x, y)
    print("Dramatically moved mouse to the left!")
    
    pyautogui.moveTo(x, y - 100)
    print("Dramatically moved mouse up!")
    
    pyautogui.moveTo(x, y)
    print("Dramatically moved mouse down!")

# Initialize previous position
prev_x, prev_y = pyautogui.position()

while True:
    # Delay for a bit
    time.sleep(1)
    
    # Current mouse position
    x, y = pyautogui.position()
    
    # If the mouse hasn't moved, perform the dramatic move
    if x == prev_x and y == prev_y:
        move_dramatically()
    
    # Update previous position
    prev_x, prev_y = x, y
