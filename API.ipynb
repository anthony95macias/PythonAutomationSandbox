{
 "cells": [
  {
   "cell_type": "code",
   "execution_count": null,
   "metadata": {},
   "outputs": [],
   "source": [
    "import threading\n",
    "import nest_asyncio\n",
    "from fastapi import FastAPI\n",
    "import uvicorn\n",
    "\n",
    "nest_asyncio.apply()\n",
    "\n",
    "app = FastAPI()\n",
    "\n",
    "@app.get(\"/\")\n",
    "async def root():\n",
    "    return {\"message\": \"Hello World\"}\n",
    "\n",
    "@app.get(\"/page\")\n",
    "async def secondary_page():\n",
    "    return {\"message\": \"Secondary page\"}\n",
    "\n",
    "def run():\n",
    "    uvicorn.run(app, host=\"127.0.0.1\", port=8082)\n",
    "\n",
    "# Start the FastAPI application in a separate thread\n",
    "threading.Thread(target=run).start()\n"
   ]
  },
  {
   "cell_type": "code",
   "execution_count": 4,
   "metadata": {},
   "outputs": [
    {
     "name": "stdout",
     "output_type": "stream",
     "text": [
      "Dramatically moved mouse to the right!\n",
      "Dramatically moved mouse to the left!\n",
      "Dramatically moved mouse up!\n",
      "Dramatically moved mouse down!\n"
     ]
    },
    {
     "ename": "KeyboardInterrupt",
     "evalue": "",
     "output_type": "error",
     "traceback": [
      "\u001b[0;31m---------------------------------------------------------------------------\u001b[0m",
      "\u001b[0;31mKeyboardInterrupt\u001b[0m                         Traceback (most recent call last)",
      "\u001b[1;32m/Users/anthonymacias/Documents/PythonAutomationSandbox/API.ipynb Cell 2\u001b[0m line \u001b[0;36m2\n\u001b[1;32m     <a href='vscode-notebook-cell:/Users/anthonymacias/Documents/PythonAutomationSandbox/API.ipynb#W1sZmlsZQ%3D%3D?line=21'>22</a>\u001b[0m prev_x, prev_y \u001b[39m=\u001b[39m pyautogui\u001b[39m.\u001b[39mposition()\n\u001b[1;32m     <a href='vscode-notebook-cell:/Users/anthonymacias/Documents/PythonAutomationSandbox/API.ipynb#W1sZmlsZQ%3D%3D?line=23'>24</a>\u001b[0m \u001b[39mwhile\u001b[39;00m \u001b[39mTrue\u001b[39;00m:\n\u001b[1;32m     <a href='vscode-notebook-cell:/Users/anthonymacias/Documents/PythonAutomationSandbox/API.ipynb#W1sZmlsZQ%3D%3D?line=24'>25</a>\u001b[0m     \u001b[39m# Delay for a bit\u001b[39;00m\n\u001b[0;32m---> <a href='vscode-notebook-cell:/Users/anthonymacias/Documents/PythonAutomationSandbox/API.ipynb#W1sZmlsZQ%3D%3D?line=25'>26</a>\u001b[0m     time\u001b[39m.\u001b[39;49msleep(\u001b[39m1\u001b[39;49m)\n\u001b[1;32m     <a href='vscode-notebook-cell:/Users/anthonymacias/Documents/PythonAutomationSandbox/API.ipynb#W1sZmlsZQ%3D%3D?line=27'>28</a>\u001b[0m     \u001b[39m# Current mouse position\u001b[39;00m\n\u001b[1;32m     <a href='vscode-notebook-cell:/Users/anthonymacias/Documents/PythonAutomationSandbox/API.ipynb#W1sZmlsZQ%3D%3D?line=28'>29</a>\u001b[0m     x, y \u001b[39m=\u001b[39m pyautogui\u001b[39m.\u001b[39mposition()\n",
      "\u001b[0;31mKeyboardInterrupt\u001b[0m: "
     ]
    },
    {
     "ename": "",
     "evalue": "",
     "output_type": "error",
     "traceback": [
      "\u001b[1;31mThe Kernel crashed while executing code in the the current cell or a previous cell. Please review the code in the cell(s) to identify a possible cause of the failure. Click <a href='https://aka.ms/vscodeJupyterKernelCrash'>here</a> for more info. View Jupyter <a href='command:jupyter.viewOutput'>log</a> for further details."
     ]
    }
   ],
   "source": [
    "import pyautogui\n",
    "import time\n",
    "\n",
    "# Function to move the mouse dramatically\n",
    "def move_dramatically():\n",
    "    x, y = pyautogui.position()\n",
    "    \n",
    "    # Move mouse right, left, up, and down\n",
    "    pyautogui.moveTo(x + 100, y)\n",
    "    print(\"Dramatically moved mouse to the right!\")\n",
    "    \n",
    "    pyautogui.moveTo(x, y)\n",
    "    print(\"Dramatically moved mouse to the left!\")\n",
    "    \n",
    "    pyautogui.moveTo(x, y - 100)\n",
    "    print(\"Dramatically moved mouse up!\")\n",
    "    \n",
    "    pyautogui.moveTo(x, y)\n",
    "    print(\"Dramatically moved mouse down!\")\n",
    "\n",
    "# Initialize previous position\n",
    "prev_x, prev_y = pyautogui.position()\n",
    "\n",
    "while True:\n",
    "    # Delay for a bit\n",
    "    time.sleep(1)\n",
    "    \n",
    "    # Current mouse position\n",
    "    x, y = pyautogui.position()\n",
    "    \n",
    "    # If the mouse hasn't moved, perform the dramatic move\n",
    "    if x == prev_x and y == prev_y:\n",
    "        move_dramatically()\n",
    "    \n",
    "    # Update previous position\n",
    "    prev_x, prev_y = x, y\n"
   ]
  },
  {
   "cell_type": "code",
   "execution_count": null,
   "metadata": {},
   "outputs": [],
   "source": []
  }
 ],
 "metadata": {
  "kernelspec": {
   "display_name": "base",
   "language": "python",
   "name": "python3"
  },
  "language_info": {
   "codemirror_mode": {
    "name": "ipython",
    "version": 3
   },
   "file_extension": ".py",
   "mimetype": "text/x-python",
   "name": "python",
   "nbconvert_exporter": "python",
   "pygments_lexer": "ipython3",
   "version": "3.11.6"
  }
 },
 "nbformat": 4,
 "nbformat_minor": 2
}
