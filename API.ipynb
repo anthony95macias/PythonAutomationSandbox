{
 "cells": [
  {
   "cell_type": "code",
   "execution_count": null,
   "metadata": {},
   "outputs": [],
   "source": [
    "import threading\n",
    "import nest_asyncio\n",
    "from fastapi import FastAPI\n",
    "import uvicorn\n",
    "\n",
    "nest_asyncio.apply()\n",
    "\n",
    "app = FastAPI()\n",
    "\n",
    "@app.get(\"/\")\n",
    "async def root():\n",
    "    return {\"message\": \"Hello World\"}\n",
    "\n",
    "@app.get(\"/page\")\n",
    "async def secondary_page():\n",
    "    return {\"message\": \"Secondary page\"}\n",
    "\n",
    "def run():\n",
    "    uvicorn.run(app, host=\"127.0.0.1\", port=8082)\n",
    "\n",
    "# Start the FastAPI application in a separate thread\n",
    "threading.Thread(target=run).start()\n"
   ]
  },
  {
   "cell_type": "code",
   "execution_count": null,
   "metadata": {},
   "outputs": [],
   "source": [
    "import pyautogui\n",
    "import time\n",
    "\n",
    "# Function to move the mouse dramatically\n",
    "def move_dramatically():\n",
    "    x, y = pyautogui.position()\n",
    "    \n",
    "    # Move mouse right, left, up, and down\n",
    "    pyautogui.moveTo(x + 100, y)\n",
    "    print(\"Dramatically moved mouse to the right!\")\n",
    "    \n",
    "    pyautogui.moveTo(x, y)\n",
    "    print(\"Dramatically moved mouse to the left!\")\n",
    "    \n",
    "    pyautogui.moveTo(x, y - 100)\n",
    "    print(\"Dramatically moved mouse up!\")\n",
    "    \n",
    "    pyautogui.moveTo(x, y)\n",
    "    print(\"Dramatically moved mouse down!\")\n",
    "\n",
    "# Initialize previous position\n",
    "prev_x, prev_y = pyautogui.position()\n",
    "\n",
    "while True:\n",
    "    # Delay for a bit\n",
    "    time.sleep(1)\n",
    "    \n",
    "    # Current mouse position\n",
    "    x, y = pyautogui.position()\n",
    "    \n",
    "    # If the mouse hasn't moved, perform the dramatic move\n",
    "    if x == prev_x and y == prev_y:\n",
    "        move_dramatically()\n",
    "    \n",
    "    # Update previous position\n",
    "    prev_x, prev_y = x, y\n"
   ]
  },
  {
   "cell_type": "code",
   "execution_count": null,
   "metadata": {},
   "outputs": [],
   "source": []
  }
 ],
 "metadata": {
  "kernelspec": {
   "display_name": "base",
   "language": "python",
   "name": "python3"
  },
  "language_info": {
   "codemirror_mode": {
    "name": "ipython",
    "version": 3
   },
   "file_extension": ".py",
   "mimetype": "text/x-python",
   "name": "python",
   "nbconvert_exporter": "python",
   "pygments_lexer": "ipython3",
   "version": "3.11.4"
  }
 },
 "nbformat": 4,
 "nbformat_minor": 2
}
